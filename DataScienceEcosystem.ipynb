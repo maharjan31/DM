{
 "cells": [
  {
   "cell_type": "markdown",
   "id": "7d642220",
   "metadata": {},
   "source": [
    "#\n",
    "Data Science Tools and Ecosystem"
   ]
  },
  {
   "cell_type": "markdown",
   "id": "e2915c53",
   "metadata": {},
   "source": [
    "An Introduction"
   ]
  },
  {
   "cell_type": "markdown",
   "id": "e50e62bd",
   "metadata": {},
   "source": [
    "In this notebook, Data Science Tools and Ecosystem are summarized."
   ]
  },
  {
   "cell_type": "markdown",
   "id": "d0781c41",
   "metadata": {},
   "source": [
    "Objectives:\n",
    "- List data science languages\n",
    "- List data science libraries\n",
    "- Make table \n",
    "- Show arithmatic expression examples"
   ]
  },
  {
   "cell_type": "markdown",
   "id": "23702e99",
   "metadata": {},
   "source": [
    "Data Science Languages"
   ]
  },
  {
   "cell_type": "markdown",
   "id": "c3459ca8",
   "metadata": {},
   "source": [
    "Some of the popular languages that Data Scientists use are:"
   ]
  },
  {
   "cell_type": "markdown",
   "id": "d80645e8",
   "metadata": {},
   "source": [
    "1. Python\n",
    "2. R\n",
    "3. SQL"
   ]
  },
  {
   "cell_type": "markdown",
   "id": "8d060ff4",
   "metadata": {},
   "source": [
    "Data Science Libraries"
   ]
  },
  {
   "cell_type": "markdown",
   "id": "26a9e288",
   "metadata": {},
   "source": [
    "Some of the commonly used libraries used by Data Scientists include:"
   ]
  },
  {
   "cell_type": "markdown",
   "id": "b38dbdd8",
   "metadata": {},
   "source": [
    "1. NumPy\n",
    "2. Pandas\n",
    "3. Matplotlib\n"
   ]
  },
  {
   "cell_type": "markdown",
   "id": "09960179",
   "metadata": {},
   "source": [
    "|Table of Data Science Tools|\n",
    "|------------------|\n",
    "|Jupyter Notebook|\n",
    "|Rstudio|\n",
    "|VS Code|"
   ]
  },
  {
   "cell_type": "markdown",
   "id": "4d0eb5d7",
   "metadata": {},
   "source": [
    "###\n",
    "Below are a few examples of evaluating arithmetic expressions in Python"
   ]
  },
  {
   "cell_type": "markdown",
   "id": "2c77597e",
   "metadata": {},
   "source": [
    "This a simple arithmetic expression to mutiply then add integers."
   ]
  },
  {
   "cell_type": "code",
   "execution_count": 17,
   "id": "83ef15fb",
   "metadata": {},
   "outputs": [
    {
     "name": "stdout",
     "output_type": "stream",
     "text": [
      "17\n"
     ]
    }
   ],
   "source": [
    "x=3\n",
    "y=4\n",
    "z=5\n",
    "result=(x*y)+z\n",
    "print(result)"
   ]
  },
  {
   "cell_type": "code",
   "execution_count": 19,
   "id": "398ed2d6",
   "metadata": {},
   "outputs": [
    {
     "name": "stdout",
     "output_type": "stream",
     "text": [
      "3.3333333333333335\n"
     ]
    }
   ],
   "source": [
    "x=200\n",
    "y=60\n",
    "result=x/y\n",
    "print(result)"
   ]
  },
  {
   "cell_type": "code",
   "execution_count": 20,
   "id": "b60ebb8f",
   "metadata": {},
   "outputs": [
    {
     "data": {
      "text/plain": [
       "'This will convert 200 minutes to hours by diving by 60'"
      ]
     },
     "execution_count": 20,
     "metadata": {},
     "output_type": "execute_result"
    }
   ],
   "source": [
    "\"This will convert 200 minutes to hours by diving by 60\""
   ]
  },
  {
   "cell_type": "markdown",
   "id": "4facab96",
   "metadata": {},
   "source": [
    "##\n",
    "Author\n"
   ]
  },
  {
   "cell_type": "markdown",
   "id": "4798c1dd",
   "metadata": {},
   "source": [
    "DM"
   ]
  }
 ],
 "metadata": {
  "kernelspec": {
   "display_name": "Python 3 (ipykernel)",
   "language": "python",
   "name": "python3"
  },
  "language_info": {
   "codemirror_mode": {
    "name": "ipython",
    "version": 3
   },
   "file_extension": ".py",
   "mimetype": "text/x-python",
   "name": "python",
   "nbconvert_exporter": "python",
   "pygments_lexer": "ipython3",
   "version": "3.10.9"
  }
 },
 "nbformat": 4,
 "nbformat_minor": 5
}
